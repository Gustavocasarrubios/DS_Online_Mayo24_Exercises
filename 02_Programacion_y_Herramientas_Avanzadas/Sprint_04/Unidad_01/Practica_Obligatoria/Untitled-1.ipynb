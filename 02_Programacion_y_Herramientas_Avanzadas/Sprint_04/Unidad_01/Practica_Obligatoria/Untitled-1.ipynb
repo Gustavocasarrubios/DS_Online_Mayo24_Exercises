{
 "cells": [
  {
   "cell_type": "code",
   "execution_count": 1,
   "metadata": {},
   "outputs": [
    {
     "name": "stdout",
     "output_type": "stream",
     "text": [
      "Collecting pandas\n",
      "  Downloading pandas-2.2.2-cp310-cp310-win_amd64.whl (11.6 MB)\n",
      "     ---------------------------------------- 0.0/11.6 MB ? eta -:--:--\n",
      "     - -------------------------------------- 0.4/11.6 MB 11.6 MB/s eta 0:00:01\n",
      "     --- ------------------------------------ 1.0/11.6 MB 10.8 MB/s eta 0:00:01\n",
      "     ----- ---------------------------------- 1.6/11.6 MB 11.3 MB/s eta 0:00:01\n",
      "     ------- -------------------------------- 2.2/11.6 MB 12.5 MB/s eta 0:00:01\n",
      "     --------- ------------------------------ 2.8/11.6 MB 12.1 MB/s eta 0:00:01\n",
      "     ------------ --------------------------- 3.6/11.6 MB 12.9 MB/s eta 0:00:01\n",
      "     -------------- ------------------------- 4.2/11.6 MB 12.7 MB/s eta 0:00:01\n",
      "     ----------------- ---------------------- 5.0/11.6 MB 13.4 MB/s eta 0:00:01\n",
      "     ------------------- -------------------- 5.7/11.6 MB 13.4 MB/s eta 0:00:01\n",
      "     --------------------- ------------------ 6.3/11.6 MB 13.5 MB/s eta 0:00:01\n",
      "     ----------------------- ---------------- 6.8/11.6 MB 12.8 MB/s eta 0:00:01\n",
      "     ------------------------- -------------- 7.5/11.6 MB 12.7 MB/s eta 0:00:01\n",
      "     ---------------------------- ----------- 8.3/11.6 MB 13.3 MB/s eta 0:00:01\n",
      "     ------------------------------ --------- 8.9/11.6 MB 13.2 MB/s eta 0:00:01\n",
      "     --------------------------------- ------ 9.6/11.6 MB 13.7 MB/s eta 0:00:01\n",
      "     ---------------------------------- ---- 10.3/11.6 MB 13.6 MB/s eta 0:00:01\n",
      "     ------------------------------------- - 11.1/11.6 MB 14.2 MB/s eta 0:00:01\n",
      "     --------------------------------------  11.6/11.6 MB 14.2 MB/s eta 0:00:01\n",
      "     --------------------------------------- 11.6/11.6 MB 13.1 MB/s eta 0:00:00\n",
      "Collecting tzdata>=2022.7\n",
      "  Downloading tzdata-2024.1-py2.py3-none-any.whl (345 kB)\n",
      "     ---------------------------------------- 0.0/345.4 kB ? eta -:--:--\n",
      "     ------------------------------------- 345.4/345.4 kB 22.3 MB/s eta 0:00:00\n",
      "Requirement already satisfied: python-dateutil>=2.8.2 in c:\\users\\gustavo\\appdata\\local\\programs\\python\\python310\\lib\\site-packages (from pandas) (2.9.0.post0)\n",
      "Collecting pytz>=2020.1\n",
      "  Downloading pytz-2024.1-py2.py3-none-any.whl (505 kB)\n",
      "     ---------------------------------------- 0.0/505.5 kB ? eta -:--:--\n",
      "     ------------------------------------- 505.5/505.5 kB 16.0 MB/s eta 0:00:00\n",
      "Requirement already satisfied: numpy>=1.22.4 in c:\\users\\gustavo\\appdata\\local\\programs\\python\\python310\\lib\\site-packages (from pandas) (1.26.4)\n",
      "Requirement already satisfied: six>=1.5 in c:\\users\\gustavo\\appdata\\local\\programs\\python\\python310\\lib\\site-packages (from python-dateutil>=2.8.2->pandas) (1.16.0)\n",
      "Installing collected packages: pytz, tzdata, pandas\n",
      "Successfully installed pandas-2.2.2 pytz-2024.1 tzdata-2024.1\n",
      "Note: you may need to restart the kernel to use updated packages.\n"
     ]
    },
    {
     "name": "stderr",
     "output_type": "stream",
     "text": [
      "\n",
      "[notice] A new release of pip is available: 23.0.1 -> 24.0\n",
      "[notice] To update, run: python.exe -m pip install --upgrade pip\n"
     ]
    }
   ],
   "source": [
    "pip install pandas"
   ]
  }
 ],
 "metadata": {
  "kernelspec": {
   "display_name": "Python 3",
   "language": "python",
   "name": "python3"
  },
  "language_info": {
   "codemirror_mode": {
    "name": "ipython",
    "version": 3
   },
   "file_extension": ".py",
   "mimetype": "text/x-python",
   "name": "python",
   "nbconvert_exporter": "python",
   "pygments_lexer": "ipython3",
   "version": "3.10.11"
  }
 },
 "nbformat": 4,
 "nbformat_minor": 2
}
